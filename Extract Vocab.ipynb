{
 "cells": [
  {
   "cell_type": "code",
   "execution_count": 5,
   "id": "1bbdabfc",
   "metadata": {},
   "outputs": [
    {
     "name": "stdout",
     "output_type": "stream",
     "text": [
      "The autoreload extension is already loaded. To reload it, use:\n",
      "  %reload_ext autoreload\n"
     ]
    }
   ],
   "source": [
    "%load_ext autoreload\n",
    "%autoreload 2"
   ]
  },
  {
   "cell_type": "code",
   "execution_count": 14,
   "id": "fc97f2c8",
   "metadata": {},
   "outputs": [],
   "source": [
    "import pandas as pd\n",
    "from utils import load_data, tokenize_post\n",
    "from constants import *\n",
    "from collections import Counter\n",
    "import operator"
   ]
  },
  {
   "cell_type": "code",
   "execution_count": 7,
   "id": "6d91a10f",
   "metadata": {},
   "outputs": [],
   "source": [
    "MIN_OCCURENCE_FOR_VOCAB = 50"
   ]
  },
  {
   "cell_type": "code",
   "execution_count": 9,
   "id": "68bc27bc",
   "metadata": {},
   "outputs": [],
   "source": [
    "#data = pd.read_csv('BREXIT_reduced_data.csv')\n",
    "data = pd.read_csv('reduced_data2014_15_full.csv', nrows=1000)"
   ]
  },
  {
   "cell_type": "code",
   "execution_count": 15,
   "id": "1944904b",
   "metadata": {},
   "outputs": [],
   "source": [
    "full_text = tokenize_post(' '.join(data['post']), keep_stopwords=True)\n",
    "uni_and_bigrams = Counter(full_text)\n",
    "\n",
    "for i in range(1, len(full_text)):\n",
    "    w = full_text[i]\n",
    "    w_ = full_text[i-1]\n",
    "    uni_and_bigrams.update([' '.join([w_, w ])])\n",
    "    \n",
    "vocab = set([k for k, v in sorted(\n",
    "    uni_and_bigrams.items(), \n",
    "    key=operator.itemgetter(1), \n",
    "    reverse=True) if v > MIN_OCCURENCE_FOR_VOCAB])\n",
    "    \n",
    "        "
   ]
  },
  {
   "cell_type": "code",
   "execution_count": 17,
   "id": "b3fe7fae",
   "metadata": {},
   "outputs": [],
   "source": [
    "with open('brexit_tokens.txt', 'w') as f:\n",
    "    for token in vocab:\n",
    "        f.write(token+ \"\\n\")\n",
    "f.close()"
   ]
  },
  {
   "cell_type": "code",
   "execution_count": null,
   "id": "9bd1b469",
   "metadata": {},
   "outputs": [],
   "source": []
  }
 ],
 "metadata": {
  "kernelspec": {
   "display_name": "Python 3 (ipykernel)",
   "language": "python",
   "name": "python3"
  },
  "language_info": {
   "codemirror_mode": {
    "name": "ipython",
    "version": 3
   },
   "file_extension": ".py",
   "mimetype": "text/x-python",
   "name": "python",
   "nbconvert_exporter": "python",
   "pygments_lexer": "ipython3",
   "version": "3.7.4"
  }
 },
 "nbformat": 4,
 "nbformat_minor": 5
}
