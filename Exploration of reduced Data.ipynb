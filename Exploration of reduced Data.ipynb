{
 "cells": [
  {
   "cell_type": "markdown",
   "id": "dcdadf82",
   "metadata": {},
   "source": [
    "Exploratory Data Analysis necessary insights: \n",
    "- Number of Users. \n",
    "- Hist Left/Right score\n",
    "- Number of posts\n",
    "- Users No of Posts Histogram\n",
    "- When posted Histogram\n",
    "- Post length\n",
    "- Post length by party affiliation \n",
    "\n"
   ]
  },
  {
   "cell_type": "code",
   "execution_count": 1,
   "id": "38e5026d",
   "metadata": {},
   "outputs": [
    {
     "name": "stderr",
     "output_type": "stream",
     "text": [
      "\n",
      "Bad key text.latex.preview in file /opt/anaconda3/lib/python3.7/site-packages/matplotlib/mpl-data/stylelib/_classic_test.mplstyle, line 123 ('text.latex.preview : False')\n",
      "You probably need to get an updated matplotlibrc file from\n",
      "https://github.com/matplotlib/matplotlib/blob/v3.5.0/matplotlibrc.template\n",
      "or from the matplotlib source distribution\n",
      "\n",
      "Bad key mathtext.fallback_to_cm in file /opt/anaconda3/lib/python3.7/site-packages/matplotlib/mpl-data/stylelib/_classic_test.mplstyle, line 155 ('mathtext.fallback_to_cm : True  # When True, use symbols from the Computer Modern')\n",
      "You probably need to get an updated matplotlibrc file from\n",
      "https://github.com/matplotlib/matplotlib/blob/v3.5.0/matplotlibrc.template\n",
      "or from the matplotlib source distribution\n",
      "\n",
      "Bad key savefig.jpeg_quality in file /opt/anaconda3/lib/python3.7/site-packages/matplotlib/mpl-data/stylelib/_classic_test.mplstyle, line 418 ('savefig.jpeg_quality: 95       # when a jpeg is saved, the default quality parameter.')\n",
      "You probably need to get an updated matplotlibrc file from\n",
      "https://github.com/matplotlib/matplotlib/blob/v3.5.0/matplotlibrc.template\n",
      "or from the matplotlib source distribution\n",
      "\n",
      "Bad key keymap.all_axes in file /opt/anaconda3/lib/python3.7/site-packages/matplotlib/mpl-data/stylelib/_classic_test.mplstyle, line 466 ('keymap.all_axes : a                 # enable all axes')\n",
      "You probably need to get an updated matplotlibrc file from\n",
      "https://github.com/matplotlib/matplotlib/blob/v3.5.0/matplotlibrc.template\n",
      "or from the matplotlib source distribution\n",
      "\n",
      "Bad key animation.avconv_path in file /opt/anaconda3/lib/python3.7/site-packages/matplotlib/mpl-data/stylelib/_classic_test.mplstyle, line 477 ('animation.avconv_path: avconv     # Path to avconv binary. Without full path')\n",
      "You probably need to get an updated matplotlibrc file from\n",
      "https://github.com/matplotlib/matplotlib/blob/v3.5.0/matplotlibrc.template\n",
      "or from the matplotlib source distribution\n",
      "\n",
      "Bad key animation.avconv_args in file /opt/anaconda3/lib/python3.7/site-packages/matplotlib/mpl-data/stylelib/_classic_test.mplstyle, line 479 ('animation.avconv_args:            # Additional arguments to pass to avconv')\n",
      "You probably need to get an updated matplotlibrc file from\n",
      "https://github.com/matplotlib/matplotlib/blob/v3.5.0/matplotlibrc.template\n",
      "or from the matplotlib source distribution\n"
     ]
    }
   ],
   "source": [
    "import pandas as pd\n",
    "import numpy as np\n",
    "import matplotlib.pyplot as plt\n",
    "from utils import tokenize_post\n",
    "from scipy import stats"
   ]
  },
  {
   "cell_type": "code",
   "execution_count": 2,
   "id": "6962137c",
   "metadata": {},
   "outputs": [],
   "source": [
    "dev= True"
   ]
  },
  {
   "cell_type": "code",
   "execution_count": 3,
   "id": "404cb53e",
   "metadata": {},
   "outputs": [],
   "source": [
    "if dev:\n",
    "    data = pd.read_csv('reduced_data2014_15_full.csv', nrows=1000)\n",
    "    users_affiliation_df = pd.read_csv('BREXIT_user_affiliation.csv',nrows=1000)\n",
    "    users_n_posts_df.read_csv('users_n_posts.csv', nrows=1000)\n",
    "else:\n",
    "    data = pd.read_csv('BREXIT_reduced_data.csv')\n",
    "    users_affiliation_df = pd.read_csv('BREXIT_user_affiliation.csv')\n",
    "    users_n_posts_df.read_csv('users_n_posts.csv')"
   ]
  },
  {
   "cell_type": "code",
   "execution_count": 4,
   "id": "1e85cea2",
   "metadata": {},
   "outputs": [
    {
     "name": "stdout",
     "output_type": "stream",
     "text": [
      "unique users: 409\n",
      "Number of posts: 1000\n"
     ]
    }
   ],
   "source": [
    "#Number of users\n",
    "print('unique users: {}'.format(len(np.unique(data['author']))))\n",
    "print('Number of posts: {}'.format(len(data)))"
   ]
  },
  {
   "cell_type": "code",
   "execution_count": 5,
   "id": "a9edf412",
   "metadata": {},
   "outputs": [
    {
     "data": {
      "image/png": "[encoded data removed]",
      "text/plain": [
       "<Figure size 432x288 with 1 Axes>"
      ]
     },
     "metadata": {
      "needs_background": "light"
     },
     "output_type": "display_data"
    }
   ],
   "source": [
    "#Left-right score Histogram \n",
    "plt.hist(users_affiliation_df['score'], bins= np.linspace(-500,500, 100))\n",
    "plt.title('Democrat and Republican subreddits post number difference')\n",
    "plt.xlabel('Difference')\n",
    "plt.ylabel('Count')\n",
    "plt.savefig('data/figures\\histogram_affiliation_score.pdf', dpi = 300)\n",
    "plt.show()"
   ]
  },
  {
   "cell_type": "code",
   "execution_count": 6,
   "id": "7c4c8402",
   "metadata": {},
   "outputs": [
    {
     "ename": "NameError",
     "evalue": "name 'users_n_posts_df' is not defined",
     "output_type": "error",
     "traceback": [
      "\u001b[0;31m---------------------------------------------------------------------------\u001b[0m",
      "\u001b[0;31mNameError\u001b[0m                                 Traceback (most recent call last)",
      "\u001b[0;32m/var/folders/gb/bsk3c5_d1c1597wlkdz2hw580000gn/T/ipykernel_15480/2958251597.py\u001b[0m in \u001b[0;36m<module>\u001b[0;34m\u001b[0m\n\u001b[1;32m      1\u001b[0m \u001b[0;31m#Number of Posts by User histogram\u001b[0m\u001b[0;34m\u001b[0m\u001b[0;34m\u001b[0m\u001b[0;34m\u001b[0m\u001b[0m\n\u001b[0;32m----> 2\u001b[0;31m \u001b[0mplt\u001b[0m\u001b[0;34m.\u001b[0m\u001b[0mhist\u001b[0m\u001b[0;34m(\u001b[0m\u001b[0musers_n_posts_df\u001b[0m\u001b[0;34m[\u001b[0m\u001b[0;34m'n_posts'\u001b[0m\u001b[0;34m]\u001b[0m\u001b[0;34m,\u001b[0m \u001b[0mbins\u001b[0m\u001b[0;34m=\u001b[0m \u001b[0mnp\u001b[0m\u001b[0;34m.\u001b[0m\u001b[0mlinspace\u001b[0m\u001b[0;34m(\u001b[0m\u001b[0;34m-\u001b[0m\u001b[0;36m500\u001b[0m\u001b[0;34m,\u001b[0m\u001b[0;36m500\u001b[0m\u001b[0;34m,\u001b[0m \u001b[0;36m100\u001b[0m\u001b[0;34m)\u001b[0m\u001b[0;34m)\u001b[0m\u001b[0;34m\u001b[0m\u001b[0;34m\u001b[0m\u001b[0m\n\u001b[0m\u001b[1;32m      3\u001b[0m \u001b[0mplt\u001b[0m\u001b[0;34m.\u001b[0m\u001b[0mxlabel\u001b[0m\u001b[0;34m(\u001b[0m\u001b[0;34m'Number of posts per user'\u001b[0m\u001b[0;34m)\u001b[0m\u001b[0;34m\u001b[0m\u001b[0;34m\u001b[0m\u001b[0m\n\u001b[1;32m      4\u001b[0m \u001b[0mplt\u001b[0m\u001b[0;34m.\u001b[0m\u001b[0mxlabel\u001b[0m\u001b[0;34m(\u001b[0m\u001b[0;34m'N Users'\u001b[0m\u001b[0;34m)\u001b[0m\u001b[0;34m\u001b[0m\u001b[0;34m\u001b[0m\u001b[0m\n\u001b[1;32m      5\u001b[0m \u001b[0mplt\u001b[0m\u001b[0;34m.\u001b[0m\u001b[0msavefig\u001b[0m\u001b[0;34m(\u001b[0m\u001b[0;34m'data\\figures\\histogram_user_post_number.pdf'\u001b[0m\u001b[0;34m,\u001b[0m \u001b[0mdpi\u001b[0m \u001b[0;34m=\u001b[0m \u001b[0;36m300\u001b[0m\u001b[0;34m)\u001b[0m\u001b[0;34m\u001b[0m\u001b[0;34m\u001b[0m\u001b[0m\n",
      "\u001b[0;31mNameError\u001b[0m: name 'users_n_posts_df' is not defined"
     ]
    }
   ],
   "source": [
    "#Number of Posts by User histogram\n",
    "plt.hist(users_n_posts_df['n_posts'], bins= np.linspace(-500,500, 100))\n",
    "plt.xlabel('Number of posts per user')\n",
    "plt.xlabel('N Users')\n",
    "plt.savefig('data\\figures\\histogram_user_post_number.pdf', dpi = 300)\n",
    "plt.show()"
   ]
  },
  {
   "cell_type": "code",
   "execution_count": 7,
   "id": "f41eb129",
   "metadata": {},
   "outputs": [
    {
     "data": {
      "image/png": "[encoded data removed]",
      "text/plain": [
       "<Figure size 432x288 with 1 Axes>"
      ]
     },
     "metadata": {
      "needs_background": "light"
     },
     "output_type": "display_data"
    }
   ],
   "source": [
    "#When posted\n",
    "plt.hist(data['time'])\n",
    "plt.ylabel('N Posts')\n",
    "plt.xlabel('Date')\n",
    "plt.savefig('data\\figures\\histogram_when_posted.pdf', dpi = 300)\n",
    "plt.show()"
   ]
  },
  {
   "cell_type": "code",
   "execution_count": 9,
   "id": "661094bf",
   "metadata": {},
   "outputs": [
    {
     "data": {
      "image/png": "[encoded data removed]",
      "text/plain": [
       "<Figure size 432x288 with 1 Axes>"
      ]
     },
     "metadata": {
      "needs_background": "light"
     },
     "output_type": "display_data"
    },
    {
     "data": {
      "image/png": "[encoded data removed]",
      "text/plain": [
       "<Figure size 432x288 with 1 Axes>"
      ]
     },
     "metadata": {
      "needs_background": "light"
     },
     "output_type": "display_data"
    },
    {
     "data": {
      "image/png": "[encoded data removed]",
      "text/plain": [
       "<Figure size 432x288 with 1 Axes>"
      ]
     },
     "metadata": {
      "needs_background": "light"
     },
     "output_type": "display_data"
    },
    {
     "name": "stdout",
     "output_type": "stream",
     "text": [
      "With p = 0.2579324853874435 the post length between republicans and democrats differ.\n"
     ]
    }
   ],
   "source": [
    "#Post lengths\n",
    "data['length'] = [len(tokenize_post(post)) for post in data['post']]\n",
    "\n",
    "plt.hist(data['length'], bins =np.linspace(0,1000, 100))\n",
    "plt.ylabel('N Posts')\n",
    "plt.xlabel('N Words')\n",
    "plt.title('All Posts')\n",
    "plt.savefig('data\\figures\\histogram_n_words.pdf', dpi = 300)\n",
    "plt.show()\n",
    "\n",
    "plt.hist(data[data['politics'] == 'R']['length'], bins =np.linspace(0,1000, 100))\n",
    "plt.ylabel('N Posts')\n",
    "plt.xlabel('N Words')\n",
    "plt.title('Republican Posts')\n",
    "plt.savefig('data\\figures\\histogram_rep_n_words.pdf', dpi = 300)\n",
    "plt.show()\n",
    "\n",
    "plt.hist(data[data['politics'] == 'D']['length'], bins =np.linspace(0,1000, 100))\n",
    "plt.ylabel('N Posts')\n",
    "plt.xlabel('N Words')\n",
    "plt.title('All Posts')\n",
    "plt.savefig('data\\figures\\histogram_dem_n_words.pdf', dpi = 300)\n",
    "plt.show()\n",
    "\n",
    "\n",
    "t_value,p_value=stats.ttest_ind(data[data['politics'] == 'D'].length.values,\n",
    "                                data[data['politics'] == 'R'].length.values)\n",
    "\n",
    "print('With p = {} the post length between republicans and democrats differ.'.format(p_value))"
   ]
  },
  {
   "cell_type": "code",
   "execution_count": null,
   "id": "1c3b37a0",
   "metadata": {},
   "outputs": [],
   "source": []
  }
 ],
 "metadata": {
  "kernelspec": {
   "display_name": "Python 3 (ipykernel)",
   "language": "python",
   "name": "python3"
  },
  "language_info": {
   "codemirror_mode": {
    "name": "ipython",
    "version": 3
   },
   "file_extension": ".py",
   "mimetype": "text/x-python",
   "name": "python",
   "nbconvert_exporter": "python",
   "pygments_lexer": "ipython3",
   "version": "3.7.4"
  }
 },
 "nbformat": 4,
 "nbformat_minor": 5
}
