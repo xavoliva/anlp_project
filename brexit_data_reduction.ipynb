{
 "cells": [
  {
   "cell_type": "code",
   "execution_count": 16,
   "metadata": {},
   "outputs": [
    {
     "name": "stdout",
     "output_type": "stream",
     "text": [
      "The autoreload extension is already loaded. To reload it, use:\n",
      "  %reload_ext autoreload\n"
     ]
    }
   ],
   "source": [
    "%load_ext autoreload\n",
    "%autoreload 2"
   ]
  },
  {
   "cell_type": "code",
   "execution_count": 17,
   "metadata": {},
   "outputs": [],
   "source": [
    "from collections import defaultdict\n",
    "from IPython.display import display\n",
    "import json\n",
    "\n",
    "import pandas as pd\n",
    "import numpy as np\n",
    "import matplotlib.pyplot as plt\n",
    "\n",
    "from utils import load_data\n",
    "from constants import DATA_DIR, EVENTS_DIR, DEM_SUBREDDITS, REP_SUBREDDITS, PARTISAN_SUBREDDITS"
   ]
  },
  {
   "cell_type": "code",
   "execution_count": 18,
   "metadata": {},
   "outputs": [],
   "source": [
    "dev = False"
   ]
  },
  {
   "cell_type": "code",
   "execution_count": 19,
   "metadata": {},
   "outputs": [
    {
     "name": "stdout",
     "output_type": "stream",
     "text": [
      "Loading data of 2016...\n"
     ]
    }
   ],
   "source": [
    "reddit = load_data(DATA_DIR, year=2016, tokenize=False, comp=\"parquet\", dev=False)"
   ]
  },
  {
   "cell_type": "code",
   "execution_count": 20,
   "metadata": {},
   "outputs": [],
   "source": [
    "if dev:\n",
    "    reduction_frac = 0.15\n",
    "    print(f'Reduce data to fraction {reduction_frac}')\n",
    "\n",
    "    reddit = reddit.sample(frac=reduction_frac)"
   ]
  },
  {
   "cell_type": "code",
   "execution_count": 21,
   "metadata": {},
   "outputs": [],
   "source": [
    "users = defaultdict(list)\n",
    "\n",
    "for index, row in reddit[[\"author\", \"subreddit\"]].iterrows():\n",
    "    if row['subreddit'] in PARTISAN_SUBREDDITS:\n",
    "        users[row['author']].append(row['subreddit'])"
   ]
  },
  {
   "cell_type": "code",
   "execution_count": 22,
   "metadata": {},
   "outputs": [],
   "source": [
    "users_n_posts_df = pd.DataFrame([[user, len(users[user])] for user in users.keys()],\n",
    "                                columns = ['user', 'n_posts'])\n",
    "users_n_posts_df.to_csv(f'{DATA_DIR}/users_n_posts.csv')"
   ]
  },
  {
   "cell_type": "code",
   "execution_count": 23,
   "metadata": {},
   "outputs": [],
   "source": [
    "# from nltk.tokenize import word_tokenize\n",
    "# from nltk.stem import LancasterStemmer\n",
    "\n",
    "# st = LancasterStemmer()\n",
    "\n",
    "BREXIT = 'brexit'\n",
    "# BREX_LEMMAS = set([st.stem(word) for word in ['vote', 'leave', 'remain', 'referendum', 'cameron', 'uk', 'british']])\n",
    "BREXIT_DATE = pd.to_datetime('2016-06-23')\n",
    "START_RANGE = BREXIT_DATE - pd.Timedelta(90, unit='d')\n",
    "END_RANGE = BREXIT_DATE + pd.Timedelta(90, unit='d')\n"
   ]
  },
  {
   "cell_type": "code",
   "execution_count": 24,
   "metadata": {},
   "outputs": [],
   "source": [
    "def calculate_partisan_score(subreddits_list):\n",
    "    score = 0\n",
    "    for subreddit in subreddits_list:\n",
    "        if subreddit in DEM_SUBREDDITS:\n",
    "            score += 1\n",
    "        elif subreddit in REP_SUBREDDITS:\n",
    "            score -= 1\n",
    "    return score\n",
    "\n",
    "\n",
    "def is_rep_or_dem(score):\n",
    "    if score >= 1:\n",
    "        return 'D'\n",
    "    elif score <= -1:\n",
    "        return 'R'\n",
    "    return 'N'\n",
    "\n",
    "\n",
    "def includes_lemma(post):\n",
    "    # tokens = word_tokenize(post)\n",
    "    # tokenized_post = set([st.stem(token.lower()) for token in tokens])\n",
    "    # if np.sum([lemm in BREX_LEMMAS for lemm in tokenized_post]) >= 2:\n",
    "    #     return True\n",
    "    return BREXIT in post.lower()\n",
    "\n",
    "\n",
    "def is_around_event_date(date):\n",
    "    timestamp = pd.to_datetime(date)\n",
    "    return timestamp.between(START_RANGE, END_RANGE)"
   ]
  },
  {
   "cell_type": "code",
   "execution_count": 25,
   "metadata": {},
   "outputs": [],
   "source": [
    "user_affiliation = {}\n",
    "users_affiliation_data = []\n",
    "\n",
    "for key in users.keys():\n",
    "    partisan_score = calculate_partisan_score(users[key])\n",
    "    if abs(partisan_score) > 5:\n",
    "        users_affiliation_data.append([key, partisan_score, is_rep_or_dem(partisan_score)])\n",
    "        user_affiliation[key] = is_rep_or_dem(partisan_score)\n",
    "\n",
    "users_affiliation_df = pd.DataFrame(users_affiliation_data, columns=['user', 'score', 'leaning'])"
   ]
  },
  {
   "cell_type": "code",
   "execution_count": 26,
   "metadata": {},
   "outputs": [
    {
     "data": {
      "image/png": "[encoded data removed]",
      "text/plain": [
       "<Figure size 432x288 with 1 Axes>"
      ]
     },
     "metadata": {
      "needs_background": "light"
     },
     "output_type": "display_data"
    }
   ],
   "source": [
    "users_affiliation_df['score'].hist(bins=np.linspace(-250, 250, 500))\n",
    "# plt.semilogx()\n",
    "plt.xlim(-250,250)\n",
    "plt.show()"
   ]
  },
  {
   "cell_type": "code",
   "execution_count": 27,
   "metadata": {},
   "outputs": [],
   "source": [
    "users_affiliation_df.to_csv(f'{EVENTS_DIR}/brexit_user_affiliation.csv')\n",
    "\n",
    "with open(f\"{DATA_DIR}/user_affiliation.json\", \"w\") as outfile:\n",
    "    json.dump(user_affiliation, outfile)"
   ]
  },
  {
   "cell_type": "markdown",
   "metadata": {},
   "source": [
    "### Checkpoint"
   ]
  },
  {
   "cell_type": "code",
   "execution_count": 28,
   "metadata": {},
   "outputs": [],
   "source": [
    "try:\n",
    "    user_affiliation\n",
    "except NameError:\n",
    "    print(\"Load user affiliation dict\")\n",
    "    f = open(f\"{DATA_DIR}/user_affiliation.json\")\n",
    "    user_affiliation = json.load(f)"
   ]
  },
  {
   "cell_type": "code",
   "execution_count": 30,
   "metadata": {},
   "outputs": [],
   "source": [
    "data = []\n",
    "\n",
    "# [reddit.subreddit = \"politics\"]\n",
    "reddit = reddit[[\"author\", \"body\", \"created_utc\", \"subreddit\"]].compute()\n",
    "\n",
    "if dev:\n",
    "    reddit = reddit.iloc[np.random.randint(0,\n",
    "                                           len(reddit),\n",
    "                                           size=int(0.15 * len(reddit)))]\n",
    "\n",
    "author_ = reddit.author.values\n",
    "created_ = reddit.created_utc.values\n",
    "body_ = reddit.body.values\n",
    "subreddit_ = reddit.subreddit.values\n",
    "\n",
    "for author, created, body, subreddit in zip(author_, created_, body_, subreddit_):\n",
    "    if author in user_affiliation and is_around_event_date(created_) and includes_lemma(body):\n",
    "        affiliation = user_affiliation[author]\n",
    "        data.append([author, body, created, affiliation, subreddit])\n",
    "\n",
    "output_dataframe = pd.DataFrame(\n",
    "    data, columns=['author', 'post', 'time', 'politics', 'subreddit'])"
   ]
  },
  {
   "cell_type": "code",
   "execution_count": 1,
   "metadata": {},
   "outputs": [],
   "source": [
    "output_dataframe.to_csv(f'{EVENTS_DIR}/brexit.csv')"
   ]
  },
  {
   "cell_type": "code",
   "execution_count": null,
   "metadata": {
    "scrolled": true
   },
   "outputs": [],
   "source": [
    "display(output_dataframe)"
   ]
  },
  {
   "cell_type": "code",
   "execution_count": null,
   "metadata": {},
   "outputs": [],
   "source": [
    "output_dataframe['politics'].hist()\n",
    "plt.show()"
   ]
  }
 ],
 "metadata": {
  "kernelspec": {
   "display_name": "Python 3 (ipykernel)",
   "language": "python",
   "name": "python3"
  },
  "language_info": {
   "codemirror_mode": {
    "name": "ipython",
    "version": 3
   },
   "file_extension": ".py",
   "mimetype": "text/x-python",
   "name": "python",
   "nbconvert_exporter": "python",
   "pygments_lexer": "ipython3",
   "version": "3.9.7"
  }
 },
 "nbformat": 4,
 "nbformat_minor": 2
}
