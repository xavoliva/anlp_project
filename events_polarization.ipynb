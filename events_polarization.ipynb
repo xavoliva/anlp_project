{
 "cells": [
  {
   "cell_type": "code",
   "execution_count": null,
   "metadata": {},
   "outputs": [],
   "source": [
    "%load_ext autoreload\n",
    "%autoreload 2"
   ]
  },
  {
   "cell_type": "code",
   "execution_count": null,
   "metadata": {},
   "outputs": [],
   "source": [
    "import json\n",
    "\n",
    "import pandas as pd\n",
    "\n",
    "from polarization import get_polarization, get_polarization_by_time\n",
    "from utils import load_event\n",
    "from constants import OUTPUT_DIR, EVENTS, FIGURES_DIR"
   ]
  },
  {
   "cell_type": "code",
   "execution_count": null,
   "metadata": {},
   "outputs": [],
   "source": [
    "event_polarization = {}\n",
    "\n",
    "for e in EVENTS:\n",
    "    print(e)\n",
    "    data = load_event(e)\n",
    "    event_polarization[e] = get_polarization(e, data)\n",
    "\n",
    "    with open(f\"{OUTPUT_DIR}/{e}_polarization_leaveout.json\", 'w') as f:\n",
    "        json.dump(event_polarization[e], f)"
   ]
  },
  {
   "cell_type": "code",
   "execution_count": null,
   "metadata": {},
   "outputs": [],
   "source": [
    "pol_by_time_events = {}\n",
    "\n",
    "for e in EVENTS:\n",
    "    pol_by_time_events[e] = get_polarization_by_time(e, data, freq=\"week\")\n",
    "    pol_by_time_events[e].to_csv(f\"{OUTPUT_DIR}/{e}_polarization_by_day.csv\")"
   ]
  },
  {
   "cell_type": "code",
   "execution_count": null,
   "metadata": {},
   "outputs": [],
   "source": [
    "# Plot\n",
    "\n",
    "import seaborn as sns\n",
    "import matplotlib.pyplot as plt\n",
    "\n",
    "sns.set_theme()\n",
    "sns.set(rc={\"figure.figsize\": (20, 6)})\n",
    "\n",
    "for e in EVENTS:\n",
    "    ax = sns.lineplot(x=pol_by_time_events[e].created_utc, y=pol_by_time_events[e].pol, label=\"Polarization\")\n",
    "    sns.lineplot(data=pol_by_time_events[e], x=\"created_utc\", y=\"random_pol\", label=\"Polarization with random user assignment\")\n",
    "\n",
    "    # Brexit referendum date: June 23, 2016\n",
    "    BREXIT_DATE = pd.to_datetime(\"06-23-2016\")\n",
    "\n",
    "    plt.axvline(BREXIT_DATE, linestyle=\"--\", color=\"red\", label=\"Brexit referendum date\")\n",
    "    plt.legend()\n",
    "    plt.savefig(\n",
    "        fname=f\"{FIGURES_DIR}/{e}_pol_by_time.pdf\",\n",
    "        bbox_inches='tight', pad_inches=0, format=\"pdf\"\n",
    "    )\n",
    "    plt.show()"
   ]
  }
 ],
 "metadata": {
  "interpreter": {
   "hash": "535e1fc6f4c576ada9dae38e4d216f8b8b7ae7ee85d600fb700662afc8c674bb"
  },
  "kernelspec": {
   "display_name": "Python 3.9.7 64-bit ('reddit_venv': venv)",
   "language": "python",
   "name": "python3"
  },
  "language_info": {
   "codemirror_mode": {
    "name": "ipython",
    "version": 3
   },
   "file_extension": ".py",
   "mimetype": "text/x-python",
   "name": "python",
   "nbconvert_exporter": "python",
   "pygments_lexer": "ipython3",
   "version": "3.9.7"
  },
  "orig_nbformat": 4
 },
 "nbformat": 4,
 "nbformat_minor": 2
}
