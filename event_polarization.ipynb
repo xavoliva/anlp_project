{
 "cells": [
  {
   "cell_type": "code",
   "execution_count": null,
   "metadata": {},
   "outputs": [],
   "source": [
    "%load_ext autoreload\n",
    "%autoreload 2"
   ]
  },
  {
   "cell_type": "code",
   "execution_count": null,
   "metadata": {},
   "outputs": [],
   "source": [
    "import json\n",
    "from IPython.display import display\n",
    "\n",
    "import pandas as pd\n",
    "\n",
    "from polarization import get_polarization, get_polarization_by_day\n",
    "from utils import load_event\n",
    "from constants import OUTPUT_DIR, EVENTS, FIGURES_DIR"
   ]
  },
  {
   "cell_type": "code",
   "execution_count": null,
   "metadata": {},
   "outputs": [],
   "source": [
    "event_polarization = {}\n",
    "\n",
    "for e in EVENTS:\n",
    "    data = load_event(e)\n",
    "    # display(data)\n",
    "    event_polarization[e] = get_polarization(e, data)\n",
    "\n",
    "with open(f\"{OUTPUT_DIR}/polarization_leaveout.json\", 'w') as f:\n",
    "    json.dump(event_polarization, f)"
   ]
  },
  {
   "cell_type": "code",
   "execution_count": null,
   "metadata": {},
   "outputs": [],
   "source": [
    "for e in EVENTS:\n",
    "    pol_by_day = get_polarization_by_day(e, data)\n",
    "    display(pol_by_day)\n",
    "\n",
    "    pol_by_day.to_csv(f\"{OUTPUT_DIR}/{e}_polarization_by_day.csv\")\n"
   ]
  },
  {
   "cell_type": "code",
   "execution_count": null,
   "metadata": {},
   "outputs": [],
   "source": [
    "# Plot\n",
    "\n",
    "import seaborn as sns\n",
    "import matplotlib.pyplot as plt\n",
    "\n",
    "sns.set_theme()\n",
    "sns.set(rc={\"figure.figsize\": (20, 6)})\n",
    "\n",
    "ax = sns.lineplot(x=pol_by_day.time, y=pol_by_day.pol, label=\"Polarization\")\n",
    "sns.lineplot(data=pol_by_day, x=\"time\", y=\"random_pol\")\n",
    "\n",
    "# Brexit referendum date: June 23, 2016\n",
    "brexit_date = pd.to_datetime(\"06-23-2016\")\n",
    "plt.axvline(brexit_date, linestyle=\"--\", color=\"red\", label=\"Brexit referendum date\")\n",
    "plt.legend()\n",
    "plt.savefig(\n",
    "    fname=f\"{FIGURES_DIR}/brexit_pol_by_day.pdf\",\n",
    "    bbox_inches='tight', pad_inches=0, format=\"pdf\"\n",
    ")\n",
    "plt.show()"
   ]
  }
 ],
 "metadata": {
  "interpreter": {
   "hash": "535e1fc6f4c576ada9dae38e4d216f8b8b7ae7ee85d600fb700662afc8c674bb"
  },
  "kernelspec": {
   "display_name": "Python 3.9.7 64-bit ('reddit_venv': venv)",
   "language": "python",
   "name": "python3"
  },
  "language_info": {
   "codemirror_mode": {
    "name": "ipython",
    "version": 3
   },
   "file_extension": ".py",
   "mimetype": "text/x-python",
   "name": "python",
   "nbconvert_exporter": "python",
   "pygments_lexer": "ipython3",
   "version": "3.9.7"
  },
  "orig_nbformat": 4
 },
 "nbformat": 4,
 "nbformat_minor": 2
}
