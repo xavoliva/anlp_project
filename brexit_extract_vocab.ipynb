{
 "cells": [
  {
   "cell_type": "code",
   "execution_count": 5,
   "id": "3c958d02",
   "metadata": {},
   "outputs": [
    {
     "name": "stdout",
     "output_type": "stream",
     "text": [
      "The autoreload extension is already loaded. To reload it, use:\n",
      "  %reload_ext autoreload\n"
     ]
    }
   ],
   "source": [
    "%load_ext autoreload\n",
    "%autoreload 2"
   ]
  },
  {
   "cell_type": "code",
   "execution_count": 6,
   "id": "6b7d9956",
   "metadata": {},
   "outputs": [],
   "source": [
    "from constants import EVENTS_DIR\n",
    "from generate_vocab import build_event_vocab"
   ]
  },
  {
   "cell_type": "code",
   "execution_count": 9,
   "id": "fd78e710",
   "metadata": {},
   "outputs": [
    {
     "name": "stdout",
     "output_type": "stream",
     "text": [
      "Vocab length: 438\n"
     ]
    }
   ],
   "source": [
    "vocab = build_event_vocab(\"brexit\")"
   ]
  },
  {
   "cell_type": "code",
   "execution_count": 8,
   "id": "9f714eb0",
   "metadata": {},
   "outputs": [],
   "source": [
    "with open(f'{EVENTS_DIR}/brexit_tokens.txt', 'w') as f:\n",
    "    f.write(\"\\n\".join(vocab))"
   ]
  }
 ],
 "metadata": {
  "kernelspec": {
   "display_name": "Python 3 (ipykernel)",
   "language": "python",
   "name": "python3"
  },
  "language_info": {
   "codemirror_mode": {
    "name": "ipython",
    "version": 3
   },
   "file_extension": ".py",
   "mimetype": "text/x-python",
   "name": "python",
   "nbconvert_exporter": "python",
   "pygments_lexer": "ipython3",
   "version": "3.9.7"
  }
 },
 "nbformat": 4,
 "nbformat_minor": 5
}
