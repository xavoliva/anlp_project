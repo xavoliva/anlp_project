{
 "cells": [
  {
   "cell_type": "markdown",
   "metadata": {},
   "source": [
    "Add: \n",
    "    - 6 Months around brexit for final Frame. Full for user party affiliation.\n",
    "    - Only Lemmatized posts : Brexit, referendum, leave, remain, vote\n",
    "    - Higher boundary to assign score. +- 5\n",
    "    "
   ]
  },
  {
   "cell_type": "code",
   "execution_count": 1,
   "metadata": {},
   "outputs": [],
   "source": [
    "%load_ext autoreload\n",
    "%autoreload 2"
   ]
  },
  {
   "cell_type": "code",
   "execution_count": 2,
   "metadata": {},
   "outputs": [
    {
     "name": "stderr",
     "output_type": "stream",
     "text": [
      "\n",
      "Bad key text.latex.preview in file /opt/anaconda3/lib/python3.7/site-packages/matplotlib/mpl-data/stylelib/_classic_test.mplstyle, line 123 ('text.latex.preview : False')\n",
      "You probably need to get an updated matplotlibrc file from\n",
      "https://github.com/matplotlib/matplotlib/blob/v3.5.0/matplotlibrc.template\n",
      "or from the matplotlib source distribution\n",
      "\n",
      "Bad key mathtext.fallback_to_cm in file /opt/anaconda3/lib/python3.7/site-packages/matplotlib/mpl-data/stylelib/_classic_test.mplstyle, line 155 ('mathtext.fallback_to_cm : True  # When True, use symbols from the Computer Modern')\n",
      "You probably need to get an updated matplotlibrc file from\n",
      "https://github.com/matplotlib/matplotlib/blob/v3.5.0/matplotlibrc.template\n",
      "or from the matplotlib source distribution\n",
      "\n",
      "Bad key savefig.jpeg_quality in file /opt/anaconda3/lib/python3.7/site-packages/matplotlib/mpl-data/stylelib/_classic_test.mplstyle, line 418 ('savefig.jpeg_quality: 95       # when a jpeg is saved, the default quality parameter.')\n",
      "You probably need to get an updated matplotlibrc file from\n",
      "https://github.com/matplotlib/matplotlib/blob/v3.5.0/matplotlibrc.template\n",
      "or from the matplotlib source distribution\n",
      "\n",
      "Bad key keymap.all_axes in file /opt/anaconda3/lib/python3.7/site-packages/matplotlib/mpl-data/stylelib/_classic_test.mplstyle, line 466 ('keymap.all_axes : a                 # enable all axes')\n",
      "You probably need to get an updated matplotlibrc file from\n",
      "https://github.com/matplotlib/matplotlib/blob/v3.5.0/matplotlibrc.template\n",
      "or from the matplotlib source distribution\n",
      "\n",
      "Bad key animation.avconv_path in file /opt/anaconda3/lib/python3.7/site-packages/matplotlib/mpl-data/stylelib/_classic_test.mplstyle, line 477 ('animation.avconv_path: avconv     # Path to avconv binary. Without full path')\n",
      "You probably need to get an updated matplotlibrc file from\n",
      "https://github.com/matplotlib/matplotlib/blob/v3.5.0/matplotlibrc.template\n",
      "or from the matplotlib source distribution\n",
      "\n",
      "Bad key animation.avconv_args in file /opt/anaconda3/lib/python3.7/site-packages/matplotlib/mpl-data/stylelib/_classic_test.mplstyle, line 479 ('animation.avconv_args:            # Additional arguments to pass to avconv')\n",
      "You probably need to get an updated matplotlibrc file from\n",
      "https://github.com/matplotlib/matplotlib/blob/v3.5.0/matplotlibrc.template\n",
      "or from the matplotlib source distribution\n"
     ]
    }
   ],
   "source": [
    "from utils import load_data\n",
    "from constants import *\n",
    "import pandas as pd\n",
    "import numpy as np\n",
    "import matplotlib.pyplot as plt"
   ]
  },
  {
   "cell_type": "code",
   "execution_count": 3,
   "metadata": {},
   "outputs": [],
   "source": [
    "YEARS = [2016]\n",
    "reddit = {}"
   ]
  },
  {
   "cell_type": "code",
   "execution_count": 4,
   "metadata": {},
   "outputs": [
    {
     "name": "stdout",
     "output_type": "stream",
     "text": [
      "Loading data of 2016...\n"
     ]
    }
   ],
   "source": [
    "for year in YEARS:\n",
    "    reddit[year] = load_data(DATA_PATH, year=year, tokenize=False, comp=\"parquet\", dev=False)"
   ]
  },
  {
   "cell_type": "code",
   "execution_count": null,
   "metadata": {},
   "outputs": [
    {
     "name": "stdout",
     "output_type": "stream",
     "text": [
      "2016\n"
     ]
    }
   ],
   "source": [
    "users = {}\n",
    "\n",
    "for year in YEARS:\n",
    "    print(year)\n",
    "    for index, row in reddit[year].iterrows():\n",
    "        if not row['subreddit'] in DEM_SUBREDDITS and not row['subreddit'] in REP_SUBREDDITS:\n",
    "            continue\n",
    "        else:\n",
    "            try:\n",
    "                users[row['author']].append(row['subreddit'])\n",
    "            except KeyError:\n",
    "                users[row['author']] = [row['subreddit']]\n",
    "        "
   ]
  },
  {
   "cell_type": "code",
   "execution_count": null,
   "metadata": {},
   "outputs": [],
   "source": [
    "from nltk.tokenize import word_tokenize\n",
    "from nltk.stem import LancasterStemmer\n",
    "from datetimerange import DateTimeRange\n",
    "\n",
    "st = LancasterStemmer()\n",
    "\n",
    "BREXIT = 'brexit'\n",
    "BREX_LEMMAS= set([st.stem(word) for word in ['vote', 'leave', 'remain', 'referendum', 'cameron', 'uk', 'british']])\n",
    "BREXIT_DATE = pd.to_datetime('2016-06-23')\n",
    "START_RANGE = BREXIT_DATE - pd.Timedelta(90, unit='d')\n",
    "END_RANGE = BREXIT_DATE + pd.Timedelta(90, unit='d')\n",
    "\n",
    "\n",
    "\n",
    "def includes_lemma(post):\n",
    "    tokenized_post = set([st.stem(token.lower()) for token in word_tokenize(post)])\n",
    "    if BREXIT in tokenized_post:            \n",
    "        return True\n",
    "    elif np.sum([lemm in BREX_LEMMAS for lemm in tokenized_post]) >= 2:\n",
    "        return True\n",
    "    return False\n",
    "\n",
    "def is_six_months_around_brexit(date):\n",
    "    time_range = DateTimeRange(START_RANGE, END_RANGE)\n",
    "    timestamp = pd.to_datetime(date)\n",
    "    if timestamp in time_range:\n",
    "        return True\n",
    "    else:\n",
    "        return False"
   ]
  },
  {
   "cell_type": "code",
   "execution_count": null,
   "metadata": {},
   "outputs": [],
   "source": [
    "def rep_or_dem_score(subreddits_list):\n",
    "    score = 0\n",
    "    for subreddit in subreddits_list:\n",
    "        if subreddit in DEM_SUBREDDITS:\n",
    "            score += 1\n",
    "        elif subreddit in REP_SUBREDDITS:\n",
    "            score -= 1\n",
    "    return score\n",
    "def rep_or_dem(score):\n",
    "    if score >=1 : \n",
    "        return 'D'\n",
    "    elif score <= -1:\n",
    "        return 'R'\n",
    "    return 'N'\n"
   ]
  },
  {
   "cell_type": "code",
   "execution_count": null,
   "metadata": {},
   "outputs": [],
   "source": [
    "user_affiliation = {}\n",
    "users_affiliation_data = []\n",
    "for key in users.keys():\n",
    "    aff = rep_or_dem_score(users[key])\n",
    "    if abs(aff) > 5:\n",
    "        users_affiliation_data.append([key, aff])\n",
    "        user_affiliation[key] = rep_or_dem(aff)\n",
    "\n",
    "users_affiliation_df = pd.DataFrame(users_affiliation_data, columns=['user', 'score'])"
   ]
  },
  {
   "cell_type": "code",
   "execution_count": null,
   "metadata": {
    "scrolled": true
   },
   "outputs": [],
   "source": [
    "print(users_affiliation_df)"
   ]
  },
  {
   "cell_type": "code",
   "execution_count": null,
   "metadata": {},
   "outputs": [],
   "source": [
    "users_affiliation_df['score'].hist(bins=np.linspace(-250, 250, 500))\n",
    "#plt.semilogx()\n",
    "plt.xlim(-250,250)\n",
    "plt.show()"
   ]
  },
  {
   "cell_type": "code",
   "execution_count": null,
   "metadata": {},
   "outputs": [],
   "source": [
    "users_affiliation_df.to_csv('BREXIT_user_affiliation.csv')"
   ]
  },
  {
   "cell_type": "code",
   "execution_count": null,
   "metadata": {},
   "outputs": [],
   "source": [
    "data = []\n",
    "relevant_users = set(user_affiliation.keys())\n",
    "for year in YEARS:\n",
    "    print('YEAR -> ', year)\n",
    "    reddit[year] = reddit[year][reddit[year]['subreddit']== 'politics'].compute()\n",
    "    for index, row in reddit[year].iterrows():\n",
    "        if row['author'] in relevant_users:\n",
    "            if is_six_months_around_brexit(row['created_utc']):\n",
    "                if includes_lemma(row['body']):\n",
    "                    affiliation = user_affiliation[row['author']] \n",
    "                    new_line = [row['author'], row['body'], row['created_utc'], affiliation]\n",
    "                    data.append(new_line)\n",
    "                \n",
    "output_dataframe = pd.DataFrame(data, columns= ['author', 'post', 'time', 'politics'])\n"
   ]
  },
  {
   "cell_type": "code",
   "execution_count": null,
   "metadata": {},
   "outputs": [],
   "source": [
    "output_dataframe.to_csv('BREXIT_reduced_data.csv')"
   ]
  },
  {
   "cell_type": "code",
   "execution_count": null,
   "metadata": {
    "scrolled": true
   },
   "outputs": [],
   "source": [
    "output_dataframe"
   ]
  },
  {
   "cell_type": "code",
   "execution_count": null,
   "metadata": {},
   "outputs": [],
   "source": []
  },
  {
   "cell_type": "code",
   "execution_count": null,
   "metadata": {},
   "outputs": [],
   "source": []
  }
 ],
 "metadata": {
  "kernelspec": {
   "display_name": "Python 3 (ipykernel)",
   "language": "python",
   "name": "python3"
  },
  "language_info": {
   "codemirror_mode": {
    "name": "ipython",
    "version": 3
   },
   "file_extension": ".py",
   "mimetype": "text/x-python",
   "name": "python",
   "nbconvert_exporter": "python",
   "pygments_lexer": "ipython3",
   "version": "3.7.4"
  }
 },
 "nbformat": 4,
 "nbformat_minor": 2
}
