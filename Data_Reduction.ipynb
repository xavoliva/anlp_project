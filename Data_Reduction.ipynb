{
 "cells": [
  {
   "cell_type": "code",
   "execution_count": 1,
   "metadata": {},
   "outputs": [],
   "source": [
    "%load_ext autoreload\n",
    "%autoreload 2"
   ]
  },
  {
   "cell_type": "code",
   "execution_count": 2,
   "metadata": {},
   "outputs": [],
   "source": [
    "from __future__ import annotations"
   ]
  },
  {
   "cell_type": "code",
   "execution_count": 18,
   "metadata": {},
   "outputs": [],
   "source": [
    "from utils import load_data\n",
    "from constants import *\n",
    "import pandas as pd\n",
    "import numpy as np"
   ]
  },
  {
   "cell_type": "code",
   "execution_count": 4,
   "metadata": {},
   "outputs": [],
   "source": [
    "YEARS = [2014, 2015]\n",
    "reddit = {}"
   ]
  },
  {
   "cell_type": "code",
   "execution_count": 5,
   "metadata": {},
   "outputs": [
    {
     "name": "stdout",
     "output_type": "stream",
     "text": [
      "Loading data of 2014...\n",
      "Loading data of 2015...\n"
     ]
    }
   ],
   "source": [
    "for year in YEARS:\n",
    "    reddit[year] = load_data(DATA_PATH, year=year, tokenize=False, comp=\"bz2\", dev=True)"
   ]
  },
  {
   "cell_type": "code",
   "execution_count": 11,
   "metadata": {},
   "outputs": [
    {
     "name": "stdout",
     "output_type": "stream",
     "text": [
      "2014\n",
      "2015\n"
     ]
    }
   ],
   "source": [
    "users = {}\n",
    "\n",
    "\n",
    "for year in YEARS:\n",
    "    print(year)\n",
    "    for index, row in reddit[year].iterrows():\n",
    "        if not row['subreddit'] in DEM_SUBREDDITS and not row['subreddit'] in REP_SUBREDDITS:\n",
    "            continue\n",
    "        else:\n",
    "            try:\n",
    "                users[row['author']].append(row['subreddit'])\n",
    "            except KeyError:\n",
    "                users[row['author']] = [row['subreddit']]\n",
    "        "
   ]
  },
  {
   "cell_type": "code",
   "execution_count": 12,
   "metadata": {},
   "outputs": [],
   "source": [
    "def rep_or_dem(subreddits_list):\n",
    "    score = 0\n",
    "    for subreddit in subreddits_list:\n",
    "        if subreddit in DEM_SUBREDDITS:\n",
    "            score += 1\n",
    "        elif subreddit in REP_SUBREDDITS:\n",
    "            score -= 1\n",
    "    if score > 0: \n",
    "        return 'D'\n",
    "    elif score < 0:\n",
    "        return 'R'\n",
    "    return 'N'"
   ]
  },
  {
   "cell_type": "code",
   "execution_count": 15,
   "metadata": {},
   "outputs": [
    {
     "name": "stdout",
     "output_type": "stream",
     "text": [
      "YEAR ->  2014\n",
      "YEAR ->  2015\n"
     ]
    }
   ],
   "source": [
    "data = []\n",
    "for year in YEARS:\n",
    "    print('YEAR -> ', year)\n",
    "    for index, row in reddit[year].iterrows():\n",
    "        if row['subreddit'] == 'politics':\n",
    "            try:\n",
    "                affiliation = rep_or_dem(users[row['author']])\n",
    "                new_line = [row['author'], row['body'], row['created_utc'], affiliation]\n",
    "                data.append(new_line)\n",
    "            except KeyError:\n",
    "                continue\n",
    "                \n",
    "output_dataframe = pd.DataFrame(data, columns= ['author', 'post', 'time', 'politics'])\n",
    "output_dataframe.to_csv('reduced_data.csv')"
   ]
  },
  {
   "cell_type": "code",
   "execution_count": 23,
   "metadata": {},
   "outputs": [
    {
     "data": {
      "text/html": [
       "<div>\n",
       "<style scoped>\n",
       "    .dataframe tbody tr th:only-of-type {\n",
       "        vertical-align: middle;\n",
       "    }\n",
       "\n",
       "    .dataframe tbody tr th {\n",
       "        vertical-align: top;\n",
       "    }\n",
       "\n",
       "    .dataframe thead th {\n",
       "        text-align: right;\n",
       "    }\n",
       "</style>\n",
       "<table border=\"1\" class=\"dataframe\">\n",
       "  <thead>\n",
       "    <tr style=\"text-align: right;\">\n",
       "      <th></th>\n",
       "      <th>author</th>\n",
       "      <th>post</th>\n",
       "      <th>time</th>\n",
       "      <th>politics</th>\n",
       "    </tr>\n",
       "  </thead>\n",
       "  <tbody>\n",
       "    <tr>\n",
       "      <th>0</th>\n",
       "      <td>justnfree</td>\n",
       "      <td>youre answering because its a good question to...</td>\n",
       "      <td>2014-01-02</td>\n",
       "      <td>R</td>\n",
       "    </tr>\n",
       "    <tr>\n",
       "      <th>1</th>\n",
       "      <td>NoMoreNicksLeft</td>\n",
       "      <td>but not whole . and even on the genetically di...</td>\n",
       "      <td>2014-01-04</td>\n",
       "      <td>R</td>\n",
       "    </tr>\n",
       "    <tr>\n",
       "      <th>2</th>\n",
       "      <td>liatris</td>\n",
       "      <td>then look it up , quit expecting other people ...</td>\n",
       "      <td>2014-01-26</td>\n",
       "      <td>R</td>\n",
       "    </tr>\n",
       "    <tr>\n",
       "      <th>3</th>\n",
       "      <td>Melloz</td>\n",
       "      <td>he cant declassify it due to treaty obligation...</td>\n",
       "      <td>2014-01-31</td>\n",
       "      <td>R</td>\n",
       "    </tr>\n",
       "    <tr>\n",
       "      <th>4</th>\n",
       "      <td>IAmNotAPsychopath</td>\n",
       "      <td>logical fallacies . . . logical fallacies ever...</td>\n",
       "      <td>2014-01-01</td>\n",
       "      <td>R</td>\n",
       "    </tr>\n",
       "    <tr>\n",
       "      <th>...</th>\n",
       "      <td>...</td>\n",
       "      <td>...</td>\n",
       "      <td>...</td>\n",
       "      <td>...</td>\n",
       "    </tr>\n",
       "    <tr>\n",
       "      <th>123</th>\n",
       "      <td>cp5184</td>\n",
       "      <td>and if a republican gets elected , say hello t...</td>\n",
       "      <td>2015-01-16</td>\n",
       "      <td>R</td>\n",
       "    </tr>\n",
       "    <tr>\n",
       "      <th>124</th>\n",
       "      <td>BasedGodCometh</td>\n",
       "      <td>youll never have a 3rd party candidate win wit...</td>\n",
       "      <td>2015-01-19</td>\n",
       "      <td>R</td>\n",
       "    </tr>\n",
       "    <tr>\n",
       "      <th>125</th>\n",
       "      <td>auryn0151</td>\n",
       "      <td>link america has done a great job implementing...</td>\n",
       "      <td>2015-01-05</td>\n",
       "      <td>R</td>\n",
       "    </tr>\n",
       "    <tr>\n",
       "      <th>126</th>\n",
       "      <td>humblues</td>\n",
       "      <td>i agree this is not a big deal and in a vacuum...</td>\n",
       "      <td>2015-01-01</td>\n",
       "      <td>R</td>\n",
       "    </tr>\n",
       "    <tr>\n",
       "      <th>127</th>\n",
       "      <td>humblues</td>\n",
       "      <td>romney was definitely qualified to run a mcdon...</td>\n",
       "      <td>2015-01-03</td>\n",
       "      <td>R</td>\n",
       "    </tr>\n",
       "  </tbody>\n",
       "</table>\n",
       "<p>128 rows × 4 columns</p>\n",
       "</div>"
      ],
      "text/plain": [
       "                author                                               post  \\\n",
       "0            justnfree  youre answering because its a good question to...   \n",
       "1      NoMoreNicksLeft  but not whole . and even on the genetically di...   \n",
       "2              liatris  then look it up , quit expecting other people ...   \n",
       "3               Melloz  he cant declassify it due to treaty obligation...   \n",
       "4    IAmNotAPsychopath  logical fallacies . . . logical fallacies ever...   \n",
       "..                 ...                                                ...   \n",
       "123             cp5184  and if a republican gets elected , say hello t...   \n",
       "124     BasedGodCometh  youll never have a 3rd party candidate win wit...   \n",
       "125          auryn0151  link america has done a great job implementing...   \n",
       "126           humblues  i agree this is not a big deal and in a vacuum...   \n",
       "127           humblues  romney was definitely qualified to run a mcdon...   \n",
       "\n",
       "           time politics  \n",
       "0    2014-01-02        R  \n",
       "1    2014-01-04        R  \n",
       "2    2014-01-26        R  \n",
       "3    2014-01-31        R  \n",
       "4    2014-01-01        R  \n",
       "..          ...      ...  \n",
       "123  2015-01-16        R  \n",
       "124  2015-01-19        R  \n",
       "125  2015-01-05        R  \n",
       "126  2015-01-01        R  \n",
       "127  2015-01-03        R  \n",
       "\n",
       "[128 rows x 4 columns]"
      ]
     },
     "execution_count": 23,
     "metadata": {},
     "output_type": "execute_result"
    }
   ],
   "source": [
    "output_dataframe"
   ]
  },
  {
   "cell_type": "code",
   "execution_count": null,
   "metadata": {},
   "outputs": [],
   "source": []
  }
 ],
 "metadata": {
  "kernelspec": {
   "display_name": "Python 3 (ipykernel)",
   "language": "python",
   "name": "python3"
  },
  "language_info": {
   "codemirror_mode": {
    "name": "ipython",
    "version": 3
   },
   "file_extension": ".py",
   "mimetype": "text/x-python",
   "name": "python",
   "nbconvert_exporter": "python",
   "pygments_lexer": "ipython3",
   "version": "3.7.4"
  }
 },
 "nbformat": 4,
 "nbformat_minor": 2
}
