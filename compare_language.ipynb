{
 "cells": [
  {
   "cell_type": "code",
   "execution_count": 8,
   "metadata": {},
   "outputs": [
    {
     "name": "stdout",
     "output_type": "stream",
     "text": [
      "The autoreload extension is already loaded. To reload it, use:\n",
      "  %reload_ext autoreload\n"
     ]
    }
   ],
   "source": [
    "%load_ext autoreload\n",
    "%autoreload 2"
   ]
  },
  {
   "cell_type": "code",
   "execution_count": 9,
   "metadata": {},
   "outputs": [],
   "source": [
    "from logodds_with_prior import logodds_with_prior\n",
    "from polarization import split_political_orientation\n",
    "from utils import load_event"
   ]
  },
  {
   "cell_type": "code",
   "execution_count": 10,
   "metadata": {},
   "outputs": [],
   "source": [
    "event = \"brexit\""
   ]
  },
  {
   "cell_type": "code",
   "execution_count": 11,
   "metadata": {},
   "outputs": [],
   "source": [
    "data = load_event(event)\n",
    "left_posts, right_posts = split_political_orientation(data)"
   ]
  },
  {
   "cell_type": "code",
   "execution_count": 12,
   "metadata": {},
   "outputs": [],
   "source": [
    "left_tokens = []\n",
    "right_tokens = []\n",
    "\n",
    "for post_tokens in left_posts.post.str.split(' '):\n",
    "    left_tokens.extend(post_tokens)\n",
    "\n",
    "for post_tokens in right_posts.post.str.split(' '):\n",
    "    right_tokens.extend(post_tokens)\n",
    "\n",
    "left_tokens, right_tokens = logodds_with_prior(left_tokens, right_tokens)\n"
   ]
  },
  {
   "cell_type": "code",
   "execution_count": 13,
   "metadata": {},
   "outputs": [
    {
     "name": "stdout",
     "output_type": "stream",
     "text": [
      "Left tokens\n",
      "['system', 'party', 'third', 'democracy', ',', 'policy', 'political', 'progressive', 'endorsed', 'frankly', 'hypocritical', 'medicine', 'totalitarianism', 'moratorium', 'harmful', 'bremain', 'chinese', 'ethnic', 'science', 'website', 'although', 'universal', 'alternative', 'but', 'platform']\n"
     ]
    }
   ],
   "source": [
    "print(\"Left tokens\")\n",
    "print(left_tokens)"
   ]
  },
  {
   "cell_type": "code",
   "execution_count": 14,
   "metadata": {},
   "outputs": [
    {
     "name": "stdout",
     "output_type": "stream",
     "text": [
      "Right tokens\n",
      "['he', 'they', 'was', 'eu', 'their', '1', 'why', 'polls', 'them', 'will', 'anti', 'remain', 'his', 'markets', '2016', 'new', 'now', 'this', 'tell', 'here', 'lose', 'globalism', 'trade', 'free', 'stay']\n"
     ]
    }
   ],
   "source": [
    "print(\"Right tokens\")\n",
    "print(right_tokens)"
   ]
  }
 ],
 "metadata": {
  "interpreter": {
   "hash": "535e1fc6f4c576ada9dae38e4d216f8b8b7ae7ee85d600fb700662afc8c674bb"
  },
  "kernelspec": {
   "display_name": "Python 3.9.7 64-bit ('reddit_venv': venv)",
   "language": "python",
   "name": "python3"
  },
  "language_info": {
   "codemirror_mode": {
    "name": "ipython",
    "version": 3
   },
   "file_extension": ".py",
   "mimetype": "text/x-python",
   "name": "python",
   "nbconvert_exporter": "python",
   "pygments_lexer": "ipython3",
   "version": "3.9.7"
  },
  "orig_nbformat": 4
 },
 "nbformat": 4,
 "nbformat_minor": 2
}
